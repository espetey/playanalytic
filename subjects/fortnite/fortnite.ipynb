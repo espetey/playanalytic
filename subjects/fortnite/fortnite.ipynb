{
 "cells": [
  {
   "cell_type": "code",
   "execution_count": null,
   "metadata": {},
   "outputs": [],
   "source": [
    "import requests as reqs"
   ]
  },
  {
   "cell_type": "code",
   "execution_count": 12,
   "metadata": {},
   "outputs": [],
   "source": [
    "# all items\n",
    "# response = requests.get(\"https://fortnite-public-api.theapinetwork.com/prod09/items/list\")"
   ]
  },
  {
   "cell_type": "code",
   "execution_count": 28,
   "metadata": {},
   "outputs": [
    {
     "name": "stdout",
     "output_type": "stream",
     "text": [
      "{'itemid': '3b976fc-a817878-da23f1e-7885bbd', 'name': 'Axetec', 'cost': '800', 'featured': 1, 'refundable': 1, 'lastupdate': 1555200008, 'item': {'name': 'Axetec', 'description': None, 'image': 'https://fortnite-public-files.theapinetwork.com/pickaxe/dca41c989e8305e3ad0e73b6865651e1.png', 'images': {'transparent': 'https://fortnite-public-files.theapinetwork.com/pickaxe/dca41c989e8305e3ad0e73b6865651e1.png', 'background': 'https://fortnite-public-files.theapinetwork.com/image/3b976fc-a817878-da23f1e-7885bbd.png', 'information': 'https://fortnite-public-files.theapinetwork.com/image/3b976fc-a817878-da23f1e-7885bbd/item.png', 'featured': {'transparent': None}}, 'captial': 'pickaxe', 'type': 'pickaxe', 'rarity': 'uncommon', 'obtained_type': 'vbucks'}, 'ratings': {'avgStars': 3.39, 'totalPoints': 122, 'numberVotes': 36}}\n",
      "Axetec\n",
      "Sunbird\n",
      "Mezmer\n",
      "Sunrise\n",
      "Magma\n",
      "Driver\n",
      "Birdie\n",
      "Mullet Marauder\n",
      "Whiplash\n",
      "Shadow Boxer\n",
      "Fire Spinner\n",
      "Coaxial Copter\n",
      "Studded Axe\n"
     ]
    }
   ],
   "source": [
    "store = reqs.get(\"https://fortnite-public-api.theapinetwork.com/prod09/store/get?language=en\")\n",
    "items = store.json()[\"items\"]\n",
    "print(items[0])\n",
    "for item in items:\n",
    "    print(item[\"name\"])"
   ]
  },
  {
   "cell_type": "code",
   "execution_count": null,
   "metadata": {},
   "outputs": [],
   "source": []
  },
  {
   "cell_type": "code",
   "execution_count": null,
   "metadata": {},
   "outputs": [],
   "source": []
  },
  {
   "cell_type": "code",
   "execution_count": null,
   "metadata": {},
   "outputs": [],
   "source": []
  }
 ],
 "metadata": {
  "kernelspec": {
   "display_name": "Python 3",
   "language": "python",
   "name": "python3"
  },
  "language_info": {
   "codemirror_mode": {
    "name": "ipython",
    "version": 3
   },
   "file_extension": ".py",
   "mimetype": "text/x-python",
   "name": "python",
   "nbconvert_exporter": "python",
   "pygments_lexer": "ipython3",
   "version": "3.6.8"
  }
 },
 "nbformat": 4,
 "nbformat_minor": 2
}
