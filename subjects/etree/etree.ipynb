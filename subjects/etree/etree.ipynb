{
 "cells": [
  {
   "cell_type": "code",
   "execution_count": 1,
   "metadata": {},
   "outputs": [],
   "source": [
    "# https://archive.org/advancedsearch.php"
   ]
  },
  {
   "cell_type": "code",
   "execution_count": null,
   "metadata": {
    "scrolled": false
   },
   "outputs": [],
   "source": [
    "import requests as req\n",
    "import xml.etree.ElementTree as ET\n",
    "# Fetch most-downloaded show creators\n",
    "# Set query count higher than the results you want, to factor in excluded duplicates\n",
    "downloadsCount = 4 # up to 500, then groups start getting pretty long-tail\n",
    "downloadsUrl = 'https://archive.org/advancedsearch.php?q=mediatype:etree&fl[]=creator&sort[]=downloads+desc&rows={}&output=json'.format(downloadsCount)\n",
    "downloads = req.get(downloadsUrl)\n",
    "creatorNamesRaw = downloads.json()['response']['docs']\n",
    "creatorNames = []\n",
    "for band in creatorNamesRaw:\n",
    "    creatorName = band['creator']\n",
    "    if not creatorName in creatorNames:\n",
    "        creatorNames.append(creatorName)\n",
    "print(creatorNames)\n",
    "for creatorName in creatorNames:\n",
    "    print(creatorName)\n",
    "    identifiersCount = 10\n",
    "    identifiersUrl = 'https://archive.org/advancedsearch.php?q=creator:{}&fl%5b%5D=identifier&rows={}&output=json'.format(creatorName, identifiersCount)\n",
    "    identifiersWithMp3sUrl = 'https://archive.org/advancedsearch.php?q=creator:{}&has_mp3%281%29&fl%5b%5D=identifier&rows={}&output=json'.format(creatorName, identifiersCount)\n",
    "    identifiers = req.get(identifiersWithMp3sUrl)\n",
    "    for identifier in identifiers.json()['response']['docs']:\n",
    "#         print(identifier['identifier'])\n",
    "        identifierName = identifier['identifier']\n",
    "        print('  ' + identifierName)\n",
    "        metaUrl = 'https://archive.org/download/{}/{}_meta.xml'.format(identifierName, identifierName)\n",
    "        meta = req.get(metaUrl)\n",
    "#         print(meta.text)\n",
    "        with open('meta.xml', 'wb') as f:\n",
    "            f.write(meta.content)\n",
    "        metaTree = ET.parse('meta.xml')\n",
    "        metaRoot = metaTree.getroot()\n",
    "#         print(metaRoot)\n",
    "        for item in root.findall('./metadata/title')\n",
    "            for child in item:\n",
    "                print(item)\n",
    "            "
   ]
  },
  {
   "cell_type": "code",
   "execution_count": null,
   "metadata": {},
   "outputs": [],
   "source": [
    "# fields we want\n",
    "# <metadata>\n",
    "#     <title>\n",
    "#     <creator>\n",
    "#     <type> == sound\n",
    "#     <description>\n",
    "#     <notes>\n",
    "#     <date>\n",
    "#     <year>\n",
    "#     <venue>\n",
    "#     <source>\n",
    "#     <lineage>\n",
    "#     <coverage>\n",
    "#     <runtime>\n",
    "#     <md5s>\n",
    "#     <transferer>\n"
   ]
  }
 ],
 "metadata": {
  "kernelspec": {
   "display_name": "Python 3",
   "language": "python",
   "name": "python3"
  },
  "language_info": {
   "codemirror_mode": {
    "name": "ipython",
    "version": 3
   },
   "file_extension": ".py",
   "mimetype": "text/x-python",
   "name": "python",
   "nbconvert_exporter": "python",
   "pygments_lexer": "ipython3",
   "version": "3.6.8"
  }
 },
 "nbformat": 4,
 "nbformat_minor": 2
}
