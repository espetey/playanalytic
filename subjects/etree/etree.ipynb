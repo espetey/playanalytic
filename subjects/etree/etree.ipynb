{
 "cells": [
  {
   "cell_type": "code",
   "execution_count": 31,
   "metadata": {},
   "outputs": [
    {
     "name": "stdout",
     "output_type": "stream",
     "text": [
      "['Of A Revolution', 'Grateful Dead', 'Tea Leaf Green', 'Global Funk', 'Jack Johnson', 'Radiators', 'Patterson Hood', 'Local H', 'John Mullins Band', 'Snake Oil Medicine Show', 'Moonshine Still', 'Maroon5', 'moe.', 'Max Creek', 'John Mayer', 'Ryan Adams', 'Matisyahu', 'Elliott Smith', 'Vorcza', 'Yonder Mountain String Band', '311', 'Citizen Cope', 'Gavin DeGraw', 'Tenacious D', 'Hank Williams III', 'Smashing Pumpkins']\n",
      "{'numFound': 1880, 'start': 0, 'docs': [{'identifier': 'BirthingARevolution'}, {'identifier': 'OfARevolution'}, {'identifier': 'spellforrevoluti00finl'}]}\n",
      "{'numFound': 13956, 'start': 0, 'docs': [{'identifier': 'grateful_dead-2020'}, {'identifier': 'GratefulDead'}, {'identifier': 'GratefulDead1969LiveDead08.DarkStarSingleVersion'}]}\n",
      "{'numFound': 1104, 'start': 0, 'docs': [{'identifier': 'TeaLeafGreen'}, {'identifier': 'tlg2008-04-16.fob.flac16'}, {'identifier': 'TeaLeafGreenLiveAtMoondoggiesOn2005-10-22october222005'}]}\n",
      "{'numFound': 32, 'start': 0, 'docs': [{'identifier': 'GlobalFunk'}, {'identifier': 'FreeBassDecember2712live'}, {'identifier': 'FreebassRadioOnGlobalFunkRadio2007'}]}\n",
      "{'numFound': 534, 'start': 0, 'docs': [{'identifier': '78_johnson-rag_pete-dailys-chicagoans-hall-kleinkauf-lawrence-pete-daily-pud-brown-bu_gbia0071717a'}, {'identifier': 'walterjohnson00kava'}, {'identifier': 'JackJohnson'}]}\n",
      "{'numFound': 1350, 'start': 0, 'docs': [{'identifier': 'rads1985-03-29._SBD'}, {'identifier': 'rads060322.sbd.NRML3db.FLAC'}, {'identifier': 'rads1978-04-08.sbd.flac16'}]}\n",
      "{'numFound': 164, 'start': 0, 'docs': [{'identifier': 'PattersonHood'}, {'identifier': 'phood2011-04-09.phood2011-04-09.aud.flac16_369'}, {'identifier': 'pattersonhood2013-06-08.matrix.flac16'}]}\n",
      "{'numFound': 1568, 'start': 0, 'docs': [{'identifier': 'LocalH'}, {'identifier': 'arxiv-1011.2181'}, {'identifier': 'localh2006-11-02'}]}\n",
      "{'numFound': 90, 'start': 0, 'docs': [{'identifier': 'JohnMullinsBand'}, {'identifier': 'JMB1997-07-11.sbd.flac'}, {'identifier': 'JMB1997-06-21'}]}\n",
      "{'numFound': 22, 'start': 0, 'docs': [{'identifier': 'SnakeOilMedicineShow'}, {'identifier': 'snakeoil2018-04-07.tfunk.tk62.m60.flac1644'}, {'identifier': 'soms2005-04-09.late.matrix.flac16'}]}\n",
      "{'numFound': 99, 'start': 0, 'docs': [{'identifier': 'MoonshineStill'}, {'identifier': 'mss2006-08-25.matrix.flac16'}, {'identifier': 'mss2002-06-21.flac16'}]}\n",
      "{'numFound': 46, 'start': 0, 'docs': [{'identifier': 'maroon52007-12-13'}, {'identifier': 'maroon52008-07-25.mkh8040st.flac16'}, {'identifier': 'maroon5-2003-11-04.shnf'}]}\n",
      "{'numFound': 4325, 'start': 0, 'docs': [{'identifier': 'moe.2001-07-04.cmc4.shnf'}, {'identifier': 'moe.1997-03-16.flac'}, {'identifier': 'moe.2000-02-26.flax16'}]}\n",
      "{'numFound': 2641, 'start': 0, 'docs': [{'identifier': 'MaxCreek'}, {'identifier': 'MC2015-05-23.MaxCreekStrangeCreekMainstageSuperluxMatrix'}, {'identifier': 'MC2014-08-23.MaxCreekCampCreek2014DayOneSBD'}]}\n",
      "{'numFound': 517, 'start': 0, 'docs': [{'identifier': 'JohnMayerMusic'}, {'identifier': 'JohnMayer-83'}, {'identifier': 'JohnMayerTrio'}]}\n",
      "{'numFound': 937, 'start': 0, 'docs': [{'identifier': 'RyanAdams'}, {'identifier': 'RyanGiffordElizabeth..RyanAdamscover'}, {'identifier': 'RyanAdams2014-07-25.RyanAdams2014-07-25'}]}\n",
      "{'numFound': 467, 'start': 0, 'docs': [{'identifier': 'matis2009-07-17.mc930'}, {'identifier': 'matis2010-07-22.Charlotte'}, {'identifier': 'matis2017-03-14.mk4v.obaaron.flac16'}]}\n",
      "{'numFound': 285, 'start': 0, 'docs': [{'identifier': 'cd_elliott-smith_elliott-smith'}, {'identifier': 'ElliottSmith'}, {'identifier': 'Elliott-Smith-1998-10-09-Metro-Chicago-IL'}]}\n",
      "{'numFound': 20, 'start': 0, 'docs': [{'identifier': 'vorcza2004-08-27.cmh8k.flacf'}, {'identifier': 'vorcza2006-02-11.flac16'}, {'identifier': 'vorcza2005-04-13'}]}\n",
      "{'numFound': 1857, 'start': 0, 'docs': [{'identifier': 'YonderMountainStringBand'}, {'identifier': 'cd_yonder-mountain-string-band_yonder-mountain-string-band'}, {'identifier': 'cd_yonder-mountain-string-band_yonder-mountain-string-band_0'}]}\n",
      "{'numFound': 264, 'start': 0, 'docs': [{'identifier': '3112008-03-07._KLowe_16bit'}, {'identifier': '3111996-06-15'}, {'identifier': '3112007-08-28.aud.gefell'}]}\n",
      "{'numFound': 91, 'start': 0, 'docs': [{'identifier': 'cd_citizen-cope_citizen-cope_1'}, {'identifier': 'cd_citizen-cope_citizen-cope'}, {'identifier': 'cd_citizen-cope_citizen-cope_0'}]}\n",
      "{'numFound': 108, 'start': 0, 'docs': [{'identifier': 'GavinDeGraw'}, {'identifier': 'cd_gavin-degraw_gavin-degraw'}, {'identifier': 'gdegraw2003-12-16.shnf'}]}\n",
      "{'numFound': 68, 'start': 0, 'docs': [{'identifier': 'cd_tenacious-d_tenacious-d_1'}, {'identifier': 'cd_tenacious-d_tenacious-d'}, {'identifier': 'cd_tenacious-d_tenacious-d_0'}]}\n",
      "{'numFound': 140, 'start': 0, 'docs': [{'identifier': 'HankWilliamsIII'}, {'identifier': 'hank32004-01-16.mt-877.amy'}, {'identifier': 'hank32004-01-16.pcm-m1.stephan'}]}\n",
      "{'numFound': 1311, 'start': 0, 'docs': [{'identifier': 'SmashingPumpkins'}, {'identifier': 'TSP-2020'}, {'identifier': 'SPJKLDec2014'}]}\n"
     ]
    }
   ],
   "source": [
    "import requests as req\n",
    "# Fetch most-downloaded show creators\n",
    "# Set query count higher than the results you want, to factor in excluded duplicates\n",
    "downloadsCount = 50 # up to 500, then groups start getting pretty long-tail\n",
    "downloadsUrl = 'https://archive.org/advancedsearch.php?q=mediatype:etree&fl[]=creator&sort[]=downloads+desc&rows={}&output=json'.format(downloadsCount)\n",
    "downloads = req.get(downloadsUrl)\n",
    "creatorNamesRaw = downloads.json()['response']['docs']\n",
    "creatorNames = []\n",
    "for band in creatorNamesRaw:\n",
    "    creatorName = band['creator']\n",
    "    if not creatorName in creatorNames:\n",
    "        creatorNames.append(creatorName)\n",
    "print(creatorNames)\n",
    "for creatorName in creatorNames:\n",
    "    identifiersCount = 3\n",
    "    identifiersUrl = 'https://archive.org/advancedsearch.php?q=creator:{}&fl%5b%5D=identifier&rows={}&output=json'.format(creatorName, identifiersCount)\n",
    "    identifiers = req.get(identifiersUrl)\n",
    "    print(identifiers.json()['response'])"
   ]
  },
  {
   "cell_type": "code",
   "execution_count": null,
   "metadata": {},
   "outputs": [],
   "source": []
  }
 ],
 "metadata": {
  "kernelspec": {
   "display_name": "Python 3",
   "language": "python",
   "name": "python3"
  },
  "language_info": {
   "codemirror_mode": {
    "name": "ipython",
    "version": 3
   },
   "file_extension": ".py",
   "mimetype": "text/x-python",
   "name": "python",
   "nbconvert_exporter": "python",
   "pygments_lexer": "ipython3",
   "version": "3.6.8"
  }
 },
 "nbformat": 4,
 "nbformat_minor": 2
}
